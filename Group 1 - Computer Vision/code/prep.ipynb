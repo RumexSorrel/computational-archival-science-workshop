{
 "cells": [
  {
   "cell_type": "markdown",
   "metadata": {},
   "source": [
    "## Essential imports and path settings"
   ]
  },
  {
   "cell_type": "code",
   "execution_count": 10,
   "metadata": {},
   "outputs": [],
   "source": [
    "import sys, os\n",
    "from utils.helper import get_all_files, get_all_dirs, make_new_dir\n",
    "import pandas as pd\n",
    "import numpy as np\n",
    "import shutil\n",
    "from zipfile import ZipFile"
   ]
  },
  {
   "cell_type": "code",
   "execution_count": 2,
   "metadata": {},
   "outputs": [],
   "source": [
    "DATA_ROOT = '/home/tb0035/projects/tna_datathon/data'"
   ]
  },
  {
   "cell_type": "markdown",
   "metadata": {},
   "source": [
    "## Find and replace white space with underscore"
   ]
  },
  {
   "cell_type": "code",
   "execution_count": 3,
   "metadata": {},
   "outputs": [],
   "source": [
    "def fix_path(my_dir):\n",
    "    \"\"\"replace white space with underscore '_' in files and directories under my_dir\n",
    "    Note: only files/dirs inside my_dir are checked. Parent directories above my_dir are ignored.\n",
    "    \"\"\"\n",
    "    sep = os.path.sep\n",
    "    dir_lst = get_all_dirs(my_dir, trim=1)\n",
    "    tree_depth = max([len(p.split(sep)) for p in dir_lst])\n",
    "    dcount = 0\n",
    "    for i in range(1):#tree_depth):  # repeat the path fixing process several times \n",
    "        dir_lst = get_all_dirs(my_dir, trim=1)[::-1]\n",
    "        for p in dir_lst:\n",
    "            leaf = p.split(sep)[-1]\n",
    "            parent = os.path.dirname(p)\n",
    "            new_leaf = leaf.replace(' ','_')\n",
    "            if new_leaf != leaf and os.path.exists(os.path.join(my_dir, p)):\n",
    "                print('Renaming \"%s\" to \"%s\"' % (p, os.path.join(parent, new_leaf)))\n",
    "                shutil.move(os.path.join(my_dir, p), os.path.join(my_dir, parent, new_leaf))\n",
    "                dcount += 1\n",
    "    file_lst = get_all_files(my_dir, trim=0)\n",
    "    fcount = 0\n",
    "    for f in file_lst:\n",
    "        leaf = f.split(sep)[-1]\n",
    "        parent = os.path.dirname(f)\n",
    "        new_leaf = leaf.replace(' ', '_')\n",
    "        if new_leaf != leaf:\n",
    "            print('Renaming \"%s\" to \"%s\"' % (f, os.path.join(parent, new_leaf)))\n",
    "            shutil.move(f, os.path.join(parent, new_leaf))\n",
    "            fcount += 1\n",
    "    print('Done. Rename %d dirs and %d files' % (dcount, fcount))"
   ]
  },
  {
   "cell_type": "code",
   "execution_count": 4,
   "metadata": {},
   "outputs": [
    {
     "name": "stdout",
     "output_type": "stream",
     "text": [
      "Renaming \"LOC_Videos/Transcription/background noise\" to \"LOC_Videos/Transcription/background_noise\"\n",
      "Renaming \"LOC images/LOC IMGs Sorted/1/dominant red clothes\" to \"LOC images/LOC IMGs Sorted/1/dominant_red_clothes\"\n",
      "Renaming \"LOC images/LOC IMGs Sorted/1/rings and logos\" to \"LOC images/LOC IMGs Sorted/1/rings_and_logos\"\n",
      "Renaming \"LOC images/LOC IMGs Sorted/1/pools courts and rectangles\" to \"LOC images/LOC IMGs Sorted/1/pools_courts_and_rectangles\"\n",
      "Renaming \"LOC images/LOC IMGs Sorted/1/dominant white grey clothes\" to \"LOC images/LOC IMGs Sorted/1/dominant_white_grey_clothes\"\n",
      "Renaming \"LOC images/LOC IMGs Sorted/1/dominant blue clothes\" to \"LOC images/LOC IMGs Sorted/1/dominant_blue_clothes\"\n",
      "Renaming \"LOC images/LOC IMGs Sorted/1/swimming and gymnastics\" to \"LOC images/LOC IMGs Sorted/1/swimming_and_gymnastics\"\n",
      "Renaming \"LOC images/LOC IMGs Sorted/1/football handball volleyball\" to \"LOC images/LOC IMGs Sorted/1/football_handball_volleyball\"\n",
      "Renaming \"LOC images/LOC IMGs Sorted/1/wrestling kick boxing judo\" to \"LOC images/LOC IMGs Sorted/1/wrestling_kick_boxing_judo\"\n",
      "Renaming \"LOC images/LOC IMGs Sorted\" to \"LOC images/LOC_IMGs_Sorted\"\n",
      "Renaming \"BT images\" to \"BT_images\"\n",
      "Renaming \"LOC images\" to \"LOC_images\"\n",
      "Renaming \"/home/tb0035/projects/tna_datathon/data/UKSC_Videos/CR1-10-04-19 Swearing In_IMX30_1.mp4\" to \"/home/tb0035/projects/tna_datathon/data/UKSC_Videos/CR1-10-04-19_Swearing_In_IMX30_1.mp4\"\n",
      "Renaming \"/home/tb0035/projects/tna_datathon/data/LOC_images/LOC_IMGs_Sorted/1/cycling/ben_swift (2).jpg\" to \"/home/tb0035/projects/tna_datathon/data/LOC_images/LOC_IMGs_Sorted/1/cycling/ben_swift_(2).jpg\"\n",
      "Renaming \"/home/tb0035/projects/tna_datathon/data/LOC_images/LOC_IMGs_Sorted/1/cycling/_GOV0215 (2).jpg\" to \"/home/tb0035/projects/tna_datathon/data/LOC_images/LOC_IMGs_Sorted/1/cycling/_GOV0215_(2).jpg\"\n",
      "Renaming \"/home/tb0035/projects/tna_datathon/data/LOC_images/LOC_IMGs_Sorted/1/cycling/ben_swift_2 (2).jpg\" to \"/home/tb0035/projects/tna_datathon/data/LOC_images/LOC_IMGs_Sorted/1/cycling/ben_swift_2_(2).jpg\"\n",
      "Renaming \"/home/tb0035/projects/tna_datathon/data/LOC_images/LOC_IMGs_Sorted/1/dominant_white_grey_clothes/_DSC0334 - Copy.JPG\" to \"/home/tb0035/projects/tna_datathon/data/LOC_images/LOC_IMGs_Sorted/1/dominant_white_grey_clothes/_DSC0334_-_Copy.JPG\"\n",
      "Renaming \"/home/tb0035/projects/tna_datathon/data/LOC_images/LOC_IMGs_Sorted/1/dominant_white_grey_clothes/_DSC0335 - Copy.JPG\" to \"/home/tb0035/projects/tna_datathon/data/LOC_images/LOC_IMGs_Sorted/1/dominant_white_grey_clothes/_DSC0335_-_Copy.JPG\"\n",
      "Renaming \"/home/tb0035/projects/tna_datathon/data/LOC_images/LOC_SAMPLE_IMGS/Pick (2).jpg\" to \"/home/tb0035/projects/tna_datathon/data/LOC_images/LOC_SAMPLE_IMGS/Pick_(2).jpg\"\n",
      "Renaming \"/home/tb0035/projects/tna_datathon/data/LOC_images/LOC_SAMPLE_IMGS/_DSC0334 - Copy.JPG\" to \"/home/tb0035/projects/tna_datathon/data/LOC_images/LOC_SAMPLE_IMGS/_DSC0334_-_Copy.JPG\"\n",
      "Renaming \"/home/tb0035/projects/tna_datathon/data/LOC_images/LOC_SAMPLE_IMGS/_DSC0335 - Copy.JPG\" to \"/home/tb0035/projects/tna_datathon/data/LOC_images/LOC_SAMPLE_IMGS/_DSC0335_-_Copy.JPG\"\n",
      "Renaming \"/home/tb0035/projects/tna_datathon/data/LOC_images/LOC_SAMPLE_IMGS/_GOV0985 (2).JPG\" to \"/home/tb0035/projects/tna_datathon/data/LOC_images/LOC_SAMPLE_IMGS/_GOV0985_(2).JPG\"\n",
      "Renaming \"/home/tb0035/projects/tna_datathon/data/LOC_images/LOC_SAMPLE_IMGS/ben_swift (2).jpg\" to \"/home/tb0035/projects/tna_datathon/data/LOC_images/LOC_SAMPLE_IMGS/ben_swift_(2).jpg\"\n",
      "Renaming \"/home/tb0035/projects/tna_datathon/data/LOC_images/LOC_SAMPLE_IMGS/_GOV0215 (2).jpg\" to \"/home/tb0035/projects/tna_datathon/data/LOC_images/LOC_SAMPLE_IMGS/_GOV0215_(2).jpg\"\n",
      "Renaming \"/home/tb0035/projects/tna_datathon/data/LOC_images/LOC_SAMPLE_IMGS/ben_swift_2 (2).jpg\" to \"/home/tb0035/projects/tna_datathon/data/LOC_images/LOC_SAMPLE_IMGS/ben_swift_2_(2).jpg\"\n",
      "Renaming \"/home/tb0035/projects/tna_datathon/data/LOC_Videos/The Olympic Torch Relay education film.mp4\" to \"/home/tb0035/projects/tna_datathon/data/LOC_Videos/The_Olympic_Torch_Relay_education_film.mp4\"\n",
      "Renaming \"/home/tb0035/projects/tna_datathon/data/LOC_Videos/Journey - Seasons Greetings.mp4\" to \"/home/tb0035/projects/tna_datathon/data/LOC_Videos/Journey_-_Seasons_Greetings.mp4\"\n",
      "Renaming \"/home/tb0035/projects/tna_datathon/data/LOC_Videos/Pin badges.mp4\" to \"/home/tb0035/projects/tna_datathon/data/LOC_Videos/Pin_badges.mp4\"\n",
      "Renaming \"/home/tb0035/projects/tna_datathon/data/LOC_Videos/ExCeL test event highlights.mp4\" to \"/home/tb0035/projects/tna_datathon/data/LOC_Videos/ExCeL_test_event_highlights.mp4\"\n",
      "Renaming \"/home/tb0035/projects/tna_datathon/data/LOC_Videos/Journey - Test Event montage.mp4\" to \"/home/tb0035/projects/tna_datathon/data/LOC_Videos/Journey_-_Test_Event_montage.mp4\"\n",
      "Renaming \"/home/tb0035/projects/tna_datathon/data/LOC_Videos/Post Games wrap film.mp4\" to \"/home/tb0035/projects/tna_datathon/data/LOC_Videos/Post_Games_wrap_film.mp4\"\n",
      "Renaming \"/home/tb0035/projects/tna_datathon/data/LOC_Videos/Overall Highlights FINAL.mp4\" to \"/home/tb0035/projects/tna_datathon/data/LOC_Videos/Overall_Highlights_FINAL.mp4\"\n",
      "Renaming \"/home/tb0035/projects/tna_datathon/data/LOC_Videos/Stories of the World.mp4\" to \"/home/tb0035/projects/tna_datathon/data/LOC_Videos/Stories_of_the_World.mp4\"\n",
      "Renaming \"/home/tb0035/projects/tna_datathon/data/LOC_Videos/Garden for the Games.mp4\" to \"/home/tb0035/projects/tna_datathon/data/LOC_Videos/Garden_for_the_Games.mp4\"\n",
      "Renaming \"/home/tb0035/projects/tna_datathon/data/LOC_Videos/Volunteering message JONATHAN EDWARDS.mp4\" to \"/home/tb0035/projects/tna_datathon/data/LOC_Videos/Volunteering_message_JONATHAN_EDWARDS.mp4\"\n",
      "Renaming \"/home/tb0035/projects/tna_datathon/data/LOC_Videos/Volunteering message DENISE LEWIS.mp4\" to \"/home/tb0035/projects/tna_datathon/data/LOC_Videos/Volunteering_message_DENISE_LEWIS.mp4\"\n",
      "Renaming \"/home/tb0035/projects/tna_datathon/data/LOC_Videos/International Inspiration – pre Opening Ceremony film.mp4\" to \"/home/tb0035/projects/tna_datathon/data/LOC_Videos/International_Inspiration_–_pre_Opening_Ceremony_film.mp4\"\n",
      "Renaming \"/home/tb0035/projects/tna_datathon/data/LOC_Videos/World Shakespeare Festival launch.mp4\" to \"/home/tb0035/projects/tna_datathon/data/LOC_Videos/World_Shakespeare_Festival_launch.mp4\"\n",
      "Renaming \"/home/tb0035/projects/tna_datathon/data/LOC_Videos/Torch/Day 65.mp4\" to \"/home/tb0035/projects/tna_datathon/data/LOC_Videos/Torch/Day_65.mp4\"\n",
      "Renaming \"/home/tb0035/projects/tna_datathon/data/LOC_Videos/Torch/Day 50.mp4\" to \"/home/tb0035/projects/tna_datathon/data/LOC_Videos/Torch/Day_50.mp4\"\n",
      "Renaming \"/home/tb0035/projects/tna_datathon/data/LOC_Videos/Torch/Day 67.mp4\" to \"/home/tb0035/projects/tna_datathon/data/LOC_Videos/Torch/Day_67.mp4\"\n",
      "Renaming \"/home/tb0035/projects/tna_datathon/data/LOC_Videos/Football/Football 02 03 11 Fin#1E50D.mp4\" to \"/home/tb0035/projects/tna_datathon/data/LOC_Videos/Football/Football_02_03_11_Fin#1E50D.mp4\"\n",
      "Renaming \"/home/tb0035/projects/tna_datathon/data/LOC_Videos/Football/Football 7-a-side 18 07 11 URL.mp4\" to \"/home/tb0035/projects/tna_datathon/data/LOC_Videos/Football/Football_7-a-side_18_07_11_URL.mp4\"\n",
      "Renaming \"/home/tb0035/projects/tna_datathon/data/LOC_Videos/Football/Spurs try Blind Football.mp4\" to \"/home/tb0035/projects/tna_datathon/data/LOC_Videos/Football/Spurs_try_Blind_Football.mp4\"\n",
      "Renaming \"/home/tb0035/projects/tna_datathon/data/LOC_Videos/Goalball/Goalball 190811 URL.mp4\" to \"/home/tb0035/projects/tna_datathon/data/LOC_Videos/Goalball/Goalball_190811_URL.mp4\"\n",
      "Renaming \"/home/tb0035/projects/tna_datathon/data/LOC_Videos/Versions/Meet the athlete - Shelly Woods 1.mp4\" to \"/home/tb0035/projects/tna_datathon/data/LOC_Videos/Versions/Meet_the_athlete_-_Shelly_Woods_1.mp4\"\n",
      "Renaming \"/home/tb0035/projects/tna_datathon/data/LOC_Videos/Versions/Meet the athlete - Shanaze Reade 2.mp4\" to \"/home/tb0035/projects/tna_datathon/data/LOC_Videos/Versions/Meet_the_athlete_-_Shanaze_Reade_2.mp4\"\n",
      "Renaming \"/home/tb0035/projects/tna_datathon/data/LOC_Videos/Versions/Meet the athlete - Shanaze Reade 1.mp4\" to \"/home/tb0035/projects/tna_datathon/data/LOC_Videos/Versions/Meet_the_athlete_-_Shanaze_Reade_1.mp4\"\n",
      "Renaming \"/home/tb0035/projects/tna_datathon/data/LOC_Videos/Versions/Meet the athlete - Shelly Woods 2.mp4\" to \"/home/tb0035/projects/tna_datathon/data/LOC_Videos/Versions/Meet_the_athlete_-_Shelly_Woods_2.mp4\"\n",
      "Renaming \"/home/tb0035/projects/tna_datathon/data/LOC_Videos/Bikes/Para cycling 160811 URL.mp4\" to \"/home/tb0035/projects/tna_datathon/data/LOC_Videos/Bikes/Para_cycling_160811_URL.mp4\"\n",
      "Renaming \"/home/tb0035/projects/tna_datathon/data/LOC_Videos/Bikes/Hadleigh Farm course completion video blog.mp4\" to \"/home/tb0035/projects/tna_datathon/data/LOC_Videos/Bikes/Hadleigh_Farm_course_completion_video_blog.mp4\"\n",
      "Renaming \"/home/tb0035/projects/tna_datathon/data/LOC_Videos/Bikes/Cycling 10 03 11 Final Tickets URL.mp4\" to \"/home/tb0035/projects/tna_datathon/data/LOC_Videos/Bikes/Cycling_10_03_11_Final_Tickets_URL.mp4\"\n",
      "Renaming \"/home/tb0035/projects/tna_datathon/data/LOC_Videos/Bikes/BMX test event.mp4\" to \"/home/tb0035/projects/tna_datathon/data/LOC_Videos/Bikes/BMX_test_event.mp4\"\n",
      "Renaming \"/home/tb0035/projects/tna_datathon/data/LOC_Videos/Fencing/Para Fencing 29 07 11 URL.mp4\" to \"/home/tb0035/projects/tna_datathon/data/LOC_Videos/Fencing/Para_Fencing_29_07_11_URL.mp4\"\n",
      "Renaming \"/home/tb0035/projects/tna_datathon/data/LOC_Videos/Fencing/Fencing 16 03 11 Final tickets URL.mp4\" to \"/home/tb0035/projects/tna_datathon/data/LOC_Videos/Fencing/Fencing_16_03_11_Final_tickets_URL.mp4\"\n",
      "Renaming \"/home/tb0035/projects/tna_datathon/data/LOC_Videos/Equestrian/Equestrian 08 07 11 URL.mp4\" to \"/home/tb0035/projects/tna_datathon/data/LOC_Videos/Equestrian/Equestrian_08_07_11_URL.mp4\"\n",
      "Renaming \"/home/tb0035/projects/tna_datathon/data/LOC_Videos/Interview/How to interview 2 Great start.mp4\" to \"/home/tb0035/projects/tna_datathon/data/LOC_Videos/Interview/How_to_interview_2_Great_start.mp4\"\n",
      "Renaming \"/home/tb0035/projects/tna_datathon/data/LOC_Videos/Badminton/Badminton 02 03 11 Final Tickets URL.mp4\" to \"/home/tb0035/projects/tna_datathon/data/LOC_Videos/Badminton/Badminton_02_03_11_Final_Tickets_URL.mp4\"\n",
      "Renaming \"/home/tb0035/projects/tna_datathon/data/LOC_Videos/Volleyball/Volleyball 04 03 11 F#1E639.mp4\" to \"/home/tb0035/projects/tna_datathon/data/LOC_Videos/Volleyball/Volleyball_04_03_11_F#1E639.mp4\"\n",
      "Renaming \"/home/tb0035/projects/tna_datathon/data/LOC_Videos/Rowing/Rowing 04 03 11 Final#1E796.mp4\" to \"/home/tb0035/projects/tna_datathon/data/LOC_Videos/Rowing/Rowing_04_03_11_Final#1E796.mp4\"\n",
      "Renaming \"/home/tb0035/projects/tna_datathon/data/LOC_Videos/Transcription/clear/Athlete Games Maker messages - Georgina Geekie.mp4\" to \"/home/tb0035/projects/tna_datathon/data/LOC_Videos/Transcription/clear/Athlete_Games_Maker_messages_-_Georgina_Geekie.mp4\"\n",
      "Renaming \"/home/tb0035/projects/tna_datathon/data/LOC_Videos/Transcription/clear/1YTG message Usain Bolt_H264.mp4\" to \"/home/tb0035/projects/tna_datathon/data/LOC_Videos/Transcription/clear/1YTG_message_Usain_Bolt_H264.mp4\"\n",
      "Renaming \"/home/tb0035/projects/tna_datathon/data/LOC_Videos/Transcription/clear/Athlete Games Maker messages - Tasha Danvers.mp4\" to \"/home/tb0035/projects/tna_datathon/data/LOC_Videos/Transcription/clear/Athlete_Games_Maker_messages_-_Tasha_Danvers.mp4\"\n",
      "Renaming \"/home/tb0035/projects/tna_datathon/data/LOC_Videos/Transcription/clear/Eddie Izzard managing disappointment.mp4\" to \"/home/tb0035/projects/tna_datathon/data/LOC_Videos/Transcription/clear/Eddie_Izzard_managing_disappointment.mp4\"\n",
      "Renaming \"/home/tb0035/projects/tna_datathon/data/LOC_Videos/Transcription/clear/Athlete Games Maker messages - Karen Pickering.mp4\" to \"/home/tb0035/projects/tna_datathon/data/LOC_Videos/Transcription/clear/Athlete_Games_Maker_messages_-_Karen_Pickering.mp4\"\n",
      "Renaming \"/home/tb0035/projects/tna_datathon/data/LOC_Videos/Transcription/clear/1YTG message Shawn Johnson_H264.mp4\" to \"/home/tb0035/projects/tna_datathon/data/LOC_Videos/Transcription/clear/1YTG_message_Shawn_Johnson_H264.mp4\"\n",
      "Renaming \"/home/tb0035/projects/tna_datathon/data/LOC_Videos/Transcription/clear/1YTG message Luol Deng_H264.mp4\" to \"/home/tb0035/projects/tna_datathon/data/LOC_Videos/Transcription/clear/1YTG_message_Luol_Deng_H264.mp4\"\n",
      "Renaming \"/home/tb0035/projects/tna_datathon/data/LOC_Videos/Transcription/clear/Athlete Games Maker messages - Sir Geoff Hurst.mp4\" to \"/home/tb0035/projects/tna_datathon/data/LOC_Videos/Transcription/clear/Athlete_Games_Maker_messages_-_Sir_Geoff_Hurst.mp4\"\n",
      "Renaming \"/home/tb0035/projects/tna_datathon/data/LOC_Videos/Transcription/clear/Athlete Games Maker messages - Louis Smith.mp4\" to \"/home/tb0035/projects/tna_datathon/data/LOC_Videos/Transcription/clear/Athlete_Games_Maker_messages_-_Louis_Smith.mp4\"\n",
      "Renaming \"/home/tb0035/projects/tna_datathon/data/LOC_Videos/Transcription/background_noise/1YTG message Team Sweden_H264.mp4\" to \"/home/tb0035/projects/tna_datathon/data/LOC_Videos/Transcription/background_noise/1YTG_message_Team_Sweden_H264.mp4\"\n",
      "Renaming \"/home/tb0035/projects/tna_datathon/data/LOC_Videos/Transcription/background_noise/1YTG message Rikke Moller Pedersen_H264.mp4\" to \"/home/tb0035/projects/tna_datathon/data/LOC_Videos/Transcription/background_noise/1YTG_message_Rikke_Moller_Pedersen_H264.mp4\"\n",
      "Renaming \"/home/tb0035/projects/tna_datathon/data/LOC_Videos/Transcription/background_noise/1000 days blog.mp4\" to \"/home/tb0035/projects/tna_datathon/data/LOC_Videos/Transcription/background_noise/1000_days_blog.mp4\"\n",
      "Renaming \"/home/tb0035/projects/tna_datathon/data/LOC_Videos/Transcription/background_noise/1YTG message Danka Bartekova_H264.mp4\" to \"/home/tb0035/projects/tna_datathon/data/LOC_Videos/Transcription/background_noise/1YTG_message_Danka_Bartekova_H264.mp4\"\n",
      "Renaming \"/home/tb0035/projects/tna_datathon/data/LOC_Videos/Running/HR Recruitment film.mp4\" to \"/home/tb0035/projects/tna_datathon/data/LOC_Videos/Running/HR_Recruitment_film.mp4\"\n",
      "Renaming \"/home/tb0035/projects/tna_datathon/data/LOC_Videos/Gymnastics/Gymnastics 02 03 11 F#1E514.mp4\" to \"/home/tb0035/projects/tna_datathon/data/LOC_Videos/Gymnastics/Gymnastics_02_03_11_F#1E514.mp4\"\n",
      "Renaming \"/home/tb0035/projects/tna_datathon/data/LOC_Videos/Dance/London 2012 Mascot Dance - full group.mp4\" to \"/home/tb0035/projects/tna_datathon/data/LOC_Videos/Dance/London_2012_Mascot_Dance_-_full_group.mp4\"\n",
      "Renaming \"/home/tb0035/projects/tna_datathon/data/LOC_Videos/Dance/London 2012 Mascot Dance - small group.mp4\" to \"/home/tb0035/projects/tna_datathon/data/LOC_Videos/Dance/London_2012_Mascot_Dance_-_small_group.mp4\"\n",
      "Renaming \"/home/tb0035/projects/tna_datathon/data/LOC_Videos/Animation/Olympic and Paralympic Village fact film.mp4\" to \"/home/tb0035/projects/tna_datathon/data/LOC_Videos/Animation/Olympic_and_Paralympic_Village_fact_film.mp4\"\n",
      "Renaming \"/home/tb0035/projects/tna_datathon/data/LOC_Videos/Animation/Rainbow to the Games.mp4\" to \"/home/tb0035/projects/tna_datathon/data/LOC_Videos/Animation/Rainbow_to_the_Games.mp4\"\n",
      "Renaming \"/home/tb0035/projects/tna_datathon/data/LOC_Videos/Animation/Animated Olympic Park flythrough film.mp4 - Shortcut.lnk\" to \"/home/tb0035/projects/tna_datathon/data/LOC_Videos/Animation/Animated_Olympic_Park_flythrough_film.mp4_-_Shortcut.lnk\"\n",
      "Renaming \"/home/tb0035/projects/tna_datathon/data/LOC_Videos/Animation/Masterplan Animation.mp4\" to \"/home/tb0035/projects/tna_datathon/data/LOC_Videos/Animation/Masterplan_Animation.mp4\"\n",
      "Renaming \"/home/tb0035/projects/tna_datathon/data/LOC_Videos/Animation/Olympic Torch Relay animated fly through.mp4\" to \"/home/tb0035/projects/tna_datathon/data/LOC_Videos/Animation/Olympic_Torch_Relay_animated_fly_through.mp4\"\n",
      "Renaming \"/home/tb0035/projects/tna_datathon/data/LOC_Videos/Hockey/Hockey pitch unveiled.mp4\" to \"/home/tb0035/projects/tna_datathon/data/LOC_Videos/Hockey/Hockey_pitch_unveiled.mp4\"\n",
      "Renaming \"/home/tb0035/projects/tna_datathon/data/LOC_Videos/Aquatics/Aquatics 03 02 11 Final Apply for Tickets.mp4\" to \"/home/tb0035/projects/tna_datathon/data/LOC_Videos/Aquatics/Aquatics_03_02_11_Final_Apply_for_Tickets.mp4\"\n",
      "Renaming \"/home/tb0035/projects/tna_datathon/data/LOC_Videos/Rings/Olympic Rings unveiled at St Pancras.mp4\" to \"/home/tb0035/projects/tna_datathon/data/LOC_Videos/Rings/Olympic_Rings_unveiled_at_St_Pancras.mp4\"\n",
      "Renaming \"/home/tb0035/projects/tna_datathon/data/LOC_Videos/Rings/Olympic rings reveal - Eurotunnel.mp4\" to \"/home/tb0035/projects/tna_datathon/data/LOC_Videos/Rings/Olympic_rings_reveal_-_Eurotunnel.mp4\"\n",
      "Renaming \"/home/tb0035/projects/tna_datathon/data/LOC_Videos/Basketball/Wheelchair Basketball URL.mp4\" to \"/home/tb0035/projects/tna_datathon/data/LOC_Videos/Basketball/Wheelchair_Basketball_URL.mp4\"\n",
      "Renaming \"/home/tb0035/projects/tna_datathon/data/LOC_Videos/Basketball/Basketball 02 03 11 F#1E4F8.mp4\" to \"/home/tb0035/projects/tna_datathon/data/LOC_Videos/Basketball/Basketball_02_03_11_F#1E4F8.mp4\"\n",
      "Done. Rename 12 dirs and 76 files\n"
     ]
    }
   ],
   "source": [
    "fix_path(DATA_ROOT)\n"
   ]
  },
  {
   "cell_type": "markdown",
   "metadata": {},
   "source": [
    "## Extract zip files"
   ]
  },
  {
   "cell_type": "code",
   "execution_count": 11,
   "metadata": {},
   "outputs": [],
   "source": [
    "def zip_extract(in_dir, out_dir=None):\n",
    "    \"\"\"find .zip files in in_dir and extract to out_dir\n",
    "    if out_dir=None, extract to in_dir\n",
    "    \"\"\"\n",
    "    out = in_dir if out_dir is None else out_dir\n",
    "    lst = get_all_files(in_dir, trim=1, extension='zip')\n",
    "    for path in lst:\n",
    "        print('Extracting %s' % path)\n",
    "        parent = os.path.dirname(path)\n",
    "        out_path = os.path.join(out, parent)\n",
    "        make_new_dir(out_path, False)\n",
    "        with ZipFile(os.path.join(in_dir, path), 'r') as zip_ref:\n",
    "            zip_ref.extractall(out_path)\n",
    "        "
   ]
  },
  {
   "cell_type": "code",
   "execution_count": 12,
   "metadata": {},
   "outputs": [
    {
     "name": "stdout",
     "output_type": "stream",
     "text": [
      "Extracting BT_52-8601.zip\n",
      "Extracting BT_52-8615.zip\n",
      "Extracting BT_52-8610.zip\n",
      "Extracting BT_52-8614.zip\n",
      "Extracting BT_50.zip\n",
      "Extracting BT_52-8613.zip\n",
      "Extracting BT_52-8609.zip\n",
      "Extracting BT_52-2987.zip\n",
      "Extracting BT_52-8600.zip\n",
      "Extracting BT_52-8606.zip\n",
      "Extracting BT_52-8607.zip\n"
     ]
    }
   ],
   "source": [
    "BT_IMG = os.path.join(DATA_ROOT, 'BT_images')\n",
    "zip_extract(BT_IMG)"
   ]
  },
  {
   "cell_type": "markdown",
   "metadata": {},
   "source": [
    "## Get list of files"
   ]
  },
  {
   "cell_type": "code",
   "execution_count": 15,
   "metadata": {},
   "outputs": [
    {
     "name": "stdout",
     "output_type": "stream",
     "text": [
      "Sophie_Elvin.jpg\n",
      "IMG_8435.jpg\n",
      "IMG_3461.jpg\n",
      "James_Bulley.jpg\n",
      "IMG_0159a.jpg\n",
      "_GOV0035-2.jpg\n",
      "FINAL_PARALYMPIC_TORCH_MM.jpg\n",
      "_GOV0986.jpg\n",
      "Elin_Haf.JPG\n",
      "Nick_Clegg.jpg\n",
      "AE4Q8384.jpg\n",
      "Fiona_Sheppard.JPG\n",
      "George_Stocker.JPG\n",
      "Pick (2).jpg\n",
      "139609936.jpg\n",
      "_GOV1004.jpg\n",
      "_GOV0543.jpg\n",
      "Nick_Clegg_2.jpg\n",
      "IMG_3543.jpg\n",
      "Blur_finish.jpg\n",
      "_MG_1006.jpg\n",
      "GMK7799.jpg\n",
      "Nick_Clegg_3.jpg\n",
      "IMG_3481.jpg\n",
      "IMG_7452a.jpg\n",
      "_GOV0087-1.jpg\n",
      "James_Bulley_2.jpg\n",
      "_GOV0264.jpg\n",
      "Bharat_Thakrar.jpg\n",
      "_GOV0985 (2).JPG\n",
      "IMG_3494.JPG\n",
      "Mel_Brown.jpg\n",
      "_GOV0065.jpg\n",
      "_GOV0384.jpg\n",
      "AE4Q1346.jpg\n",
      "_GOV0605.jpg\n",
      "MensFinalNadal.jpg\n",
      "_MG_0587.jpg\n",
      "Simeon_Wakely.jpg\n",
      "Chris_Hoy_2.jpg\n",
      "_GOV0519.jpg\n",
      "_GOV0139.jpg\n",
      "Paul_Hagreen.JPG\n",
      "_MG_0612.jpg\n",
      "Nick_Clegg-1.jpg\n",
      "_MG_0567.jpg\n",
      "Moira_Starkey.jpg\n",
      "DSCF3974.JPG\n",
      "Starr_Halley.jpg\n",
      "IMG_3615.JPG\n",
      "IMG_0351av.jpg\n",
      "_MG_0805.jpg\n",
      "IMG_0767.jpg\n",
      "Hannah_Jarrett.jpg\n",
      "Sarah_Thomas_2.jpg\n",
      "Dover_Screen_-_Open_Weekend_2.JPG\n",
      "fellside-6a.jpg\n",
      "_GOV0438.jpg\n",
      "GMK7804.jpg\n",
      "DSC_2239.jpg\n",
      "_GOV0019.jpg\n",
      "Simon_Brown_1.JPG\n",
      "AE4Q8353.jpg\n",
      "Holly_Hamill.jpg\n",
      "Alice_Tai.jpg\n",
      "David_Raizada.JPG\n",
      "Andrew_Lofthouse.jpg\n",
      "_GOV1008.jpg\n",
      "_GOV0981.JPG\n",
      "IMG_0206a.jpg\n",
      "_GOV0064.jpg\n",
      "_GOV0980.jpg\n",
      "_GOV0416-1.jpg\n",
      "IMG_0333av.jpg\n",
      "Nick_Clegg_2-1.jpg\n",
      "Nick_Clegg_3-1.jpg\n",
      "_MG_0648.jpg\n",
      "_GOV0053-1.jpg\n",
      "james_bulley_3.jpg\n",
      "_GOV0503.jpg\n",
      "_GOV0016.jpg\n"
     ]
    }
   ],
   "source": [
    "UKSC_VID = os.path.join(DATA_ROOT, 'UKSC_Videos/10_minutes_cuts')\n",
    "LOC_VID = os.path.join(DATA_ROOT, 'LOC_Videos')\n",
    "LOC_IMG = os.path.join(DATA_ROOT, 'LOC_images/LOC_SAMPLE_IMGS')\n",
    "BT_IMG = os.path.join(DATA_ROOT, 'BT_images')"
   ]
  }
 ],
 "metadata": {
  "kernelspec": {
   "display_name": "Python 3",
   "language": "python",
   "name": "python3"
  },
  "language_info": {
   "codemirror_mode": {
    "name": "ipython",
    "version": 3
   },
   "file_extension": ".py",
   "mimetype": "text/x-python",
   "name": "python",
   "nbconvert_exporter": "python",
   "pygments_lexer": "ipython3",
   "version": "3.7.3"
  }
 },
 "nbformat": 4,
 "nbformat_minor": 2
}
